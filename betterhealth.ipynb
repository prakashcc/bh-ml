{
  "nbformat": 4,
  "nbformat_minor": 0,
  "metadata": {
    "colab": {
      "name": "betterhealth.ipynb",
      "version": "0.3.2",
      "provenance": []
    },
    "language_info": {
      "codemirror_mode": {
        "name": "ipython",
        "version": 3
      },
      "file_extension": ".py",
      "mimetype": "text/x-python",
      "name": "python",
      "nbconvert_exporter": "python",
      "pygments_lexer": "ipython3",
      "version": "3.7.3"
    },
    "kernelspec": {
      "display_name": "Python 3",
      "language": "python",
      "name": "python3"
    }
  },
  "cells": [
    {
      "cell_type": "code",
      "metadata": {
        "id": "La0ZfI6ip0qJ",
        "colab_type": "code",
        "colab": {}
      },
      "source": [
        "import pandas as pd\n",
        "import numpy as np\n",
        "import matplotlib.pylab as plt\n"
      ],
      "execution_count": 0,
      "outputs": []
    },
    {
      "cell_type": "code",
      "metadata": {
        "id": "8StFSkMNp-ts",
        "colab_type": "code",
        "colab": {
          "base_uri": "https://localhost:8080/",
          "height": 122
        },
        "outputId": "7a6bea20-a2f5-479c-f815-af3918251bac"
      },
      "source": [
        "# Run this cell to mount your Google Drive.\n",
        "from google.colab import drive\n",
        "drive.mount('/content/drive')"
      ],
      "execution_count": 2,
      "outputs": [
        {
          "output_type": "stream",
          "text": [
            "Go to this URL in a browser: https://accounts.google.com/o/oauth2/auth?client_id=947318989803-6bn6qk8qdgf4n4g3pfee6491hc0brc4i.apps.googleusercontent.com&redirect_uri=urn%3Aietf%3Awg%3Aoauth%3A2.0%3Aoob&scope=email%20https%3A%2F%2Fwww.googleapis.com%2Fauth%2Fdocs.test%20https%3A%2F%2Fwww.googleapis.com%2Fauth%2Fdrive%20https%3A%2F%2Fwww.googleapis.com%2Fauth%2Fdrive.photos.readonly%20https%3A%2F%2Fwww.googleapis.com%2Fauth%2Fpeopleapi.readonly&response_type=code\n",
            "\n",
            "Enter your authorization code:\n",
            "··········\n",
            "Mounted at /content/drive\n"
          ],
          "name": "stdout"
        }
      ]
    },
    {
      "cell_type": "code",
      "metadata": {
        "id": "VZFLrVM0p0qN",
        "colab_type": "code",
        "colab": {}
      },
      "source": [
        "# maindata = pd.read_csv('C://Users//conne/Desktop/Part1-data.csv')"
      ],
      "execution_count": 0,
      "outputs": []
    },
    {
      "cell_type": "code",
      "metadata": {
        "id": "RhpNpdWrrMfJ",
        "colab_type": "code",
        "colab": {}
      },
      "source": [
        "maindata = pd.read_csv('/content/drive/My Drive/new-dataset/Part1-data.csv')"
      ],
      "execution_count": 0,
      "outputs": []
    },
    {
      "cell_type": "code",
      "metadata": {
        "id": "dF8p3QTTp0qQ",
        "colab_type": "code",
        "outputId": "20b0116c-071b-44d0-860d-9433756ee121",
        "colab": {
          "base_uri": "https://localhost:8080/",
          "height": 204
        }
      },
      "source": [
        "maindata.head()"
      ],
      "execution_count": 7,
      "outputs": [
        {
          "output_type": "execute_result",
          "data": {
            "text/html": [
              "<div>\n",
              "<style scoped>\n",
              "    .dataframe tbody tr th:only-of-type {\n",
              "        vertical-align: middle;\n",
              "    }\n",
              "\n",
              "    .dataframe tbody tr th {\n",
              "        vertical-align: top;\n",
              "    }\n",
              "\n",
              "    .dataframe thead th {\n",
              "        text-align: right;\n",
              "    }\n",
              "</style>\n",
              "<table border=\"1\" class=\"dataframe\">\n",
              "  <thead>\n",
              "    <tr style=\"text-align: right;\">\n",
              "      <th></th>\n",
              "      <th>pm_key</th>\n",
              "      <th>name</th>\n",
              "      <th>type</th>\n",
              "      <th>bool_of_active/ Active=500 or Inavtive=0</th>\n",
              "      <th>weight_kg</th>\n",
              "      <th>height(cm)</th>\n",
              "      <th>Unnamed: 6</th>\n",
              "    </tr>\n",
              "  </thead>\n",
              "  <tbody>\n",
              "    <tr>\n",
              "      <th>0</th>\n",
              "      <td>11252001</td>\n",
              "      <td>Olivia</td>\n",
              "      <td>1</td>\n",
              "      <td>0</td>\n",
              "      <td>86</td>\n",
              "      <td>172</td>\n",
              "      <td>NaN</td>\n",
              "    </tr>\n",
              "    <tr>\n",
              "      <th>1</th>\n",
              "      <td>11252002</td>\n",
              "      <td>Ava</td>\n",
              "      <td>1</td>\n",
              "      <td>0</td>\n",
              "      <td>76</td>\n",
              "      <td>169</td>\n",
              "      <td>NaN</td>\n",
              "    </tr>\n",
              "    <tr>\n",
              "      <th>2</th>\n",
              "      <td>11252003</td>\n",
              "      <td>Isabella</td>\n",
              "      <td>1</td>\n",
              "      <td>0</td>\n",
              "      <td>118</td>\n",
              "      <td>171</td>\n",
              "      <td>NaN</td>\n",
              "    </tr>\n",
              "    <tr>\n",
              "      <th>3</th>\n",
              "      <td>11252004</td>\n",
              "      <td>Sophia</td>\n",
              "      <td>0</td>\n",
              "      <td>0</td>\n",
              "      <td>71</td>\n",
              "      <td>189</td>\n",
              "      <td>NaN</td>\n",
              "    </tr>\n",
              "    <tr>\n",
              "      <th>4</th>\n",
              "      <td>11252005</td>\n",
              "      <td>Charlotte</td>\n",
              "      <td>1</td>\n",
              "      <td>500</td>\n",
              "      <td>46</td>\n",
              "      <td>183</td>\n",
              "      <td>NaN</td>\n",
              "    </tr>\n",
              "  </tbody>\n",
              "</table>\n",
              "</div>"
            ],
            "text/plain": [
              "     pm_key       name  type  ...  weight_kg  height(cm)  Unnamed: 6\n",
              "0  11252001     Olivia     1  ...         86         172         NaN\n",
              "1  11252002        Ava     1  ...         76         169         NaN\n",
              "2  11252003   Isabella     1  ...        118         171         NaN\n",
              "3  11252004     Sophia     0  ...         71         189         NaN\n",
              "4  11252005  Charlotte     1  ...         46         183         NaN\n",
              "\n",
              "[5 rows x 7 columns]"
            ]
          },
          "metadata": {
            "tags": []
          },
          "execution_count": 7
        }
      ]
    },
    {
      "cell_type": "code",
      "metadata": {
        "id": "L1ih3uekp0qU",
        "colab_type": "code",
        "colab": {}
      },
      "source": [
        "# healthdata = pd.read_csv('C://Users//conne/Desktop/Part2-data.csv')"
      ],
      "execution_count": 0,
      "outputs": []
    },
    {
      "cell_type": "code",
      "metadata": {
        "id": "ga83j_sDT_jq",
        "colab_type": "code",
        "colab": {}
      },
      "source": [
        "healthdata = pd.read_csv('/content/drive/My Drive/new-dataset/Part2-data.csv')"
      ],
      "execution_count": 0,
      "outputs": []
    },
    {
      "cell_type": "code",
      "metadata": {
        "id": "23tQ0nbvp0qX",
        "colab_type": "code",
        "colab": {}
      },
      "source": [
        "healthdata = healthdata[1:171900]"
      ],
      "execution_count": 0,
      "outputs": []
    },
    {
      "cell_type": "code",
      "metadata": {
        "id": "hsFfOX1hp0qZ",
        "colab_type": "code",
        "colab": {}
      },
      "source": [
        "totaldata = maindata.merge(healthdata,on='pm_key')"
      ],
      "execution_count": 0,
      "outputs": []
    },
    {
      "cell_type": "code",
      "metadata": {
        "id": "XBm2xExvp0qb",
        "colab_type": "code",
        "outputId": "0b1f8656-a332-4043-e786-f2e514e40caf",
        "colab": {
          "base_uri": "https://localhost:8080/",
          "height": 428
        }
      },
      "source": [
        "totaldata= totaldata.drop(['Unnamed: 6'], axis=1)\n",
        "totaldata.head()"
      ],
      "execution_count": 12,
      "outputs": [
        {
          "output_type": "execute_result",
          "data": {
            "text/html": [
              "<div>\n",
              "<style scoped>\n",
              "    .dataframe tbody tr th:only-of-type {\n",
              "        vertical-align: middle;\n",
              "    }\n",
              "\n",
              "    .dataframe tbody tr th {\n",
              "        vertical-align: top;\n",
              "    }\n",
              "\n",
              "    .dataframe thead th {\n",
              "        text-align: right;\n",
              "    }\n",
              "</style>\n",
              "<table border=\"1\" class=\"dataframe\">\n",
              "  <thead>\n",
              "    <tr style=\"text-align: right;\">\n",
              "      <th></th>\n",
              "      <th>pm_key</th>\n",
              "      <th>name</th>\n",
              "      <th>type</th>\n",
              "      <th>bool_of_active/ Active=500 or Inavtive=0</th>\n",
              "      <th>weight_kg</th>\n",
              "      <th>height(cm)</th>\n",
              "      <th>step_count</th>\n",
              "      <th>mood/\"Happy\"=100, \"Neutral\"=200 or \"Sad\"=300/</th>\n",
              "      <th>calories_burned</th>\n",
              "      <th>hours_of_sleep</th>\n",
              "      <th>Calories Eaten</th>\n",
              "      <th>Goal</th>\n",
              "      <th>Date</th>\n",
              "      <th>Time</th>\n",
              "    </tr>\n",
              "  </thead>\n",
              "  <tbody>\n",
              "    <tr>\n",
              "      <th>0</th>\n",
              "      <td>11252001</td>\n",
              "      <td>Olivia</td>\n",
              "      <td>1</td>\n",
              "      <td>0</td>\n",
              "      <td>86</td>\n",
              "      <td>172</td>\n",
              "      <td>5473</td>\n",
              "      <td>200</td>\n",
              "      <td>305</td>\n",
              "      <td>5</td>\n",
              "      <td>2733</td>\n",
              "      <td>7600</td>\n",
              "      <td>06-01-2019</td>\n",
              "      <td>23:52:33</td>\n",
              "    </tr>\n",
              "    <tr>\n",
              "      <th>1</th>\n",
              "      <td>11252001</td>\n",
              "      <td>Olivia</td>\n",
              "      <td>1</td>\n",
              "      <td>0</td>\n",
              "      <td>86</td>\n",
              "      <td>172</td>\n",
              "      <td>6572</td>\n",
              "      <td>300</td>\n",
              "      <td>270</td>\n",
              "      <td>5</td>\n",
              "      <td>1640</td>\n",
              "      <td>3872</td>\n",
              "      <td>25-02-2019</td>\n",
              "      <td>01:11:59</td>\n",
              "    </tr>\n",
              "    <tr>\n",
              "      <th>2</th>\n",
              "      <td>11252001</td>\n",
              "      <td>Olivia</td>\n",
              "      <td>1</td>\n",
              "      <td>0</td>\n",
              "      <td>86</td>\n",
              "      <td>172</td>\n",
              "      <td>17201</td>\n",
              "      <td>200</td>\n",
              "      <td>432</td>\n",
              "      <td>7</td>\n",
              "      <td>1523</td>\n",
              "      <td>13220</td>\n",
              "      <td>30-01-2019</td>\n",
              "      <td>00:35:07</td>\n",
              "    </tr>\n",
              "    <tr>\n",
              "      <th>3</th>\n",
              "      <td>11252001</td>\n",
              "      <td>Olivia</td>\n",
              "      <td>1</td>\n",
              "      <td>0</td>\n",
              "      <td>86</td>\n",
              "      <td>172</td>\n",
              "      <td>10428</td>\n",
              "      <td>100</td>\n",
              "      <td>485</td>\n",
              "      <td>5</td>\n",
              "      <td>3157</td>\n",
              "      <td>14059</td>\n",
              "      <td>07-04-2019</td>\n",
              "      <td>23:43:45</td>\n",
              "    </tr>\n",
              "    <tr>\n",
              "      <th>4</th>\n",
              "      <td>11252001</td>\n",
              "      <td>Olivia</td>\n",
              "      <td>1</td>\n",
              "      <td>0</td>\n",
              "      <td>86</td>\n",
              "      <td>172</td>\n",
              "      <td>24990</td>\n",
              "      <td>100</td>\n",
              "      <td>362</td>\n",
              "      <td>5</td>\n",
              "      <td>2502</td>\n",
              "      <td>10790</td>\n",
              "      <td>22-03-2019</td>\n",
              "      <td>23:48:45</td>\n",
              "    </tr>\n",
              "  </tbody>\n",
              "</table>\n",
              "</div>"
            ],
            "text/plain": [
              "     pm_key    name  type  ...   Goal        Date      Time\n",
              "0  11252001  Olivia     1  ...   7600  06-01-2019  23:52:33\n",
              "1  11252001  Olivia     1  ...   3872  25-02-2019  01:11:59\n",
              "2  11252001  Olivia     1  ...  13220  30-01-2019  00:35:07\n",
              "3  11252001  Olivia     1  ...  14059  07-04-2019  23:43:45\n",
              "4  11252001  Olivia     1  ...  10790  22-03-2019  23:48:45\n",
              "\n",
              "[5 rows x 14 columns]"
            ]
          },
          "metadata": {
            "tags": []
          },
          "execution_count": 12
        }
      ]
    },
    {
      "cell_type": "code",
      "metadata": {
        "id": "4VQZfFq_p0qe",
        "colab_type": "code",
        "colab": {}
      },
      "source": [
        "# Using Backward elimination\n",
        "## X = totaldata.iloc[:,[0,2,3,4,5,7,8,9,10,11]].values\n",
        "# removing High P-Value first varible\n",
        "## X = totaldata.iloc[:,[0,3,4,5,7,8,9,10,11]].values\n",
        "# removing High P-Value third varible\n",
        "## X = totaldata.iloc[:,[0,3,4,7,8,9,10,11]].values\n",
        "# removing High P-Value four varible\n",
        "## X = totaldata.iloc[:,[0,3,7,8,9,10,11]].values\n",
        "# removing High P-Value Fifth varible\n",
        "## X = totaldata.iloc[:,[0,3,7,8,9,11]].values\n",
        "# removing High P-Value Six varible\n",
        "## X = totaldata.iloc[:,[0,7,8,9,11]].values\n",
        "# removing High P-Value Seven varible\n",
        "## X = totaldata.iloc[:,[8,9,11]].values\n",
        "# removing two variables no impact on the r-square & adj.r-square\n",
        "X = totaldata.iloc[:,[8,9,11]].values"
      ],
      "execution_count": 0,
      "outputs": []
    },
    {
      "cell_type": "code",
      "metadata": {
        "id": "HWUeulFip0qg",
        "colab_type": "code",
        "outputId": "3ec25d14-0cb1-444a-bfa3-689c5cf169f0",
        "colab": {
          "base_uri": "https://localhost:8080/",
          "height": 34
        }
      },
      "source": [
        "y = totaldata.iloc[:,[6]].values\n",
        "# y.shape\n",
        "X.shape"
      ],
      "execution_count": 14,
      "outputs": [
        {
          "output_type": "execute_result",
          "data": {
            "text/plain": [
              "(171899, 3)"
            ]
          },
          "metadata": {
            "tags": []
          },
          "execution_count": 14
        }
      ]
    },
    {
      "cell_type": "code",
      "metadata": {
        "id": "S8XBDs1bp0qj",
        "colab_type": "code",
        "colab": {}
      },
      "source": [
        "from sklearn.linear_model import LinearRegression\n",
        "from sklearn.model_selection import train_test_split\n",
        "from sklearn.preprocessing import LabelEncoder"
      ],
      "execution_count": 0,
      "outputs": []
    },
    {
      "cell_type": "code",
      "metadata": {
        "id": "JkG5I1-9p0ql",
        "colab_type": "code",
        "colab": {}
      },
      "source": [
        "regressor = LinearRegression()"
      ],
      "execution_count": 0,
      "outputs": []
    },
    {
      "cell_type": "code",
      "metadata": {
        "id": "DClY6-bSp0qn",
        "colab_type": "code",
        "colab": {}
      },
      "source": [
        "X_train,X_test,y_train,y_test = train_test_split(X , y, test_size = 0.2,random_state=0)"
      ],
      "execution_count": 0,
      "outputs": []
    },
    {
      "cell_type": "code",
      "metadata": {
        "id": "03VKU-c5p0qp",
        "colab_type": "code",
        "colab": {}
      },
      "source": [
        "regressor.fit(X_train,y_train)\n",
        "y_pred = regressor.predict(X_test)"
      ],
      "execution_count": 0,
      "outputs": []
    },
    {
      "cell_type": "code",
      "metadata": {
        "id": "plks2MCNp0qr",
        "colab_type": "code",
        "colab": {}
      },
      "source": [
        ""
      ],
      "execution_count": 0,
      "outputs": []
    },
    {
      "cell_type": "code",
      "metadata": {
        "id": "Jrmj4xObp0qu",
        "colab_type": "code",
        "outputId": "4bb2f3e1-58d9-42e8-a8f4-6763d6e82c02",
        "colab": {
          "base_uri": "https://localhost:8080/",
          "height": 136
        }
      },
      "source": [
        "y_pred"
      ],
      "execution_count": 19,
      "outputs": [
        {
          "output_type": "execute_result",
          "data": {
            "text/plain": [
              "array([[6504.575071  ],\n",
              "       [6018.95110539],\n",
              "       [7073.70830098],\n",
              "       ...,\n",
              "       [5994.32740208],\n",
              "       [5967.70750564],\n",
              "       [7060.32781992]])"
            ]
          },
          "metadata": {
            "tags": []
          },
          "execution_count": 19
        }
      ]
    },
    {
      "cell_type": "code",
      "metadata": {
        "id": "6Vv5gh3Bp0qx",
        "colab_type": "code",
        "outputId": "b2dd5aae-a504-411f-d211-0e0d9063f816",
        "colab": {
          "base_uri": "https://localhost:8080/",
          "height": 136
        }
      },
      "source": [
        "y_test"
      ],
      "execution_count": 20,
      "outputs": [
        {
          "output_type": "execute_result",
          "data": {
            "text/plain": [
              "array([[9904],\n",
              "       [4559],\n",
              "       [7672],\n",
              "       ...,\n",
              "       [3003],\n",
              "       [7470],\n",
              "       [5075]])"
            ]
          },
          "metadata": {
            "tags": []
          },
          "execution_count": 20
        }
      ]
    },
    {
      "cell_type": "code",
      "metadata": {
        "id": "H4qynhG_p0q0",
        "colab_type": "code",
        "colab": {}
      },
      "source": [
        "# import statsmodels.formula.api as sm\n",
        "import statsmodels.api as sm"
      ],
      "execution_count": 0,
      "outputs": []
    },
    {
      "cell_type": "code",
      "metadata": {
        "id": "we8N_3Mzp0q3",
        "colab_type": "code",
        "colab": {}
      },
      "source": [
        "X = np.append(arr = np.ones((171899,1)).astype(int),values = X, axis = 1)"
      ],
      "execution_count": 0,
      "outputs": []
    },
    {
      "cell_type": "code",
      "metadata": {
        "id": "y_4kc3gvp0q6",
        "colab_type": "code",
        "colab": {}
      },
      "source": [
        "regressor_OLS = sm.OLS(endog=y,exog=X).fit()"
      ],
      "execution_count": 0,
      "outputs": []
    },
    {
      "cell_type": "code",
      "metadata": {
        "id": "mUZRz9yGp0q-",
        "colab_type": "code",
        "outputId": "6bc8bb83-4073-465d-c13c-f23bf188de10",
        "colab": {
          "base_uri": "https://localhost:8080/",
          "height": 541
        }
      },
      "source": [
        "regressor_OLS.summary()"
      ],
      "execution_count": 29,
      "outputs": [
        {
          "output_type": "execute_result",
          "data": {
            "text/html": [
              "<table class=\"simpletable\">\n",
              "<caption>OLS Regression Results</caption>\n",
              "<tr>\n",
              "  <th>Dep. Variable:</th>            <td>y</td>        <th>  R-squared:         </th>  <td>   0.005</td>  \n",
              "</tr>\n",
              "<tr>\n",
              "  <th>Model:</th>                   <td>OLS</td>       <th>  Adj. R-squared:    </th>  <td>   0.005</td>  \n",
              "</tr>\n",
              "<tr>\n",
              "  <th>Method:</th>             <td>Least Squares</td>  <th>  F-statistic:       </th>  <td>   267.0</td>  \n",
              "</tr>\n",
              "<tr>\n",
              "  <th>Date:</th>             <td>Tue, 02 Jul 2019</td> <th>  Prob (F-statistic):</th>  <td>6.94e-173</td> \n",
              "</tr>\n",
              "<tr>\n",
              "  <th>Time:</th>                 <td>17:18:14</td>     <th>  Log-Likelihood:    </th> <td>-1.7111e+06</td>\n",
              "</tr>\n",
              "<tr>\n",
              "  <th>No. Observations:</th>      <td>171899</td>      <th>  AIC:               </th>  <td>3.422e+06</td> \n",
              "</tr>\n",
              "<tr>\n",
              "  <th>Df Residuals:</th>          <td>171895</td>      <th>  BIC:               </th>  <td>3.422e+06</td> \n",
              "</tr>\n",
              "<tr>\n",
              "  <th>Df Model:</th>              <td>     3</td>      <th>                     </th>      <td> </td>     \n",
              "</tr>\n",
              "<tr>\n",
              "  <th>Covariance Type:</th>      <td>nonrobust</td>    <th>                     </th>      <td> </td>     \n",
              "</tr>\n",
              "</table>\n",
              "<table class=\"simpletable\">\n",
              "<tr>\n",
              "    <td></td>       <th>coef</th>     <th>std err</th>      <th>t</th>      <th>P>|t|</th>  <th>[0.025</th>    <th>0.975]</th>  \n",
              "</tr>\n",
              "<tr>\n",
              "  <th>const</th> <td> 2916.4816</td> <td>   28.480</td> <td>  102.405</td> <td> 0.000</td> <td> 2860.662</td> <td> 2972.301</td>\n",
              "</tr>\n",
              "<tr>\n",
              "  <th>x1</th>    <td> 2916.4816</td> <td>   28.480</td> <td>  102.405</td> <td> 0.000</td> <td> 2860.662</td> <td> 2972.301</td>\n",
              "</tr>\n",
              "<tr>\n",
              "  <th>x2</th>    <td>   -0.4433</td> <td>    0.070</td> <td>   -6.327</td> <td> 0.000</td> <td>   -0.581</td> <td>   -0.306</td>\n",
              "</tr>\n",
              "<tr>\n",
              "  <th>x3</th>    <td>   -9.9546</td> <td>    6.143</td> <td>   -1.621</td> <td> 0.105</td> <td>  -21.994</td> <td>    2.085</td>\n",
              "</tr>\n",
              "<tr>\n",
              "  <th>x4</th>    <td>    0.1056</td> <td>    0.004</td> <td>   27.232</td> <td> 0.000</td> <td>    0.098</td> <td>    0.113</td>\n",
              "</tr>\n",
              "</table>\n",
              "<table class=\"simpletable\">\n",
              "<tr>\n",
              "  <th>Omnibus:</th>       <td>61966.698</td> <th>  Durbin-Watson:     </th>  <td>   1.339</td> \n",
              "</tr>\n",
              "<tr>\n",
              "  <th>Prob(Omnibus):</th>  <td> 0.000</td>   <th>  Jarque-Bera (JB):  </th> <td>227044.360</td>\n",
              "</tr>\n",
              "<tr>\n",
              "  <th>Skew:</th>           <td> 1.816</td>   <th>  Prob(JB):          </th>  <td>    0.00</td> \n",
              "</tr>\n",
              "<tr>\n",
              "  <th>Kurtosis:</th>       <td> 7.302</td>   <th>  Cond. No.          </th>  <td>2.74e+18</td> \n",
              "</tr>\n",
              "</table><br/><br/>Warnings:<br/>[1] Standard Errors assume that the covariance matrix of the errors is correctly specified.<br/>[2] The smallest eigenvalue is 1.34e-24. This might indicate that there are<br/>strong multicollinearity problems or that the design matrix is singular."
            ],
            "text/plain": [
              "<class 'statsmodels.iolib.summary.Summary'>\n",
              "\"\"\"\n",
              "                            OLS Regression Results                            \n",
              "==============================================================================\n",
              "Dep. Variable:                      y   R-squared:                       0.005\n",
              "Model:                            OLS   Adj. R-squared:                  0.005\n",
              "Method:                 Least Squares   F-statistic:                     267.0\n",
              "Date:                Tue, 02 Jul 2019   Prob (F-statistic):          6.94e-173\n",
              "Time:                        17:18:14   Log-Likelihood:            -1.7111e+06\n",
              "No. Observations:              171899   AIC:                         3.422e+06\n",
              "Df Residuals:                  171895   BIC:                         3.422e+06\n",
              "Df Model:                           3                                         \n",
              "Covariance Type:            nonrobust                                         \n",
              "==============================================================================\n",
              "                 coef    std err          t      P>|t|      [0.025      0.975]\n",
              "------------------------------------------------------------------------------\n",
              "const       2916.4816     28.480    102.405      0.000    2860.662    2972.301\n",
              "x1          2916.4816     28.480    102.405      0.000    2860.662    2972.301\n",
              "x2            -0.4433      0.070     -6.327      0.000      -0.581      -0.306\n",
              "x3            -9.9546      6.143     -1.621      0.105     -21.994       2.085\n",
              "x4             0.1056      0.004     27.232      0.000       0.098       0.113\n",
              "==============================================================================\n",
              "Omnibus:                    61966.698   Durbin-Watson:                   1.339\n",
              "Prob(Omnibus):                  0.000   Jarque-Bera (JB):           227044.360\n",
              "Skew:                           1.816   Prob(JB):                         0.00\n",
              "Kurtosis:                       7.302   Cond. No.                     2.74e+18\n",
              "==============================================================================\n",
              "\n",
              "Warnings:\n",
              "[1] Standard Errors assume that the covariance matrix of the errors is correctly specified.\n",
              "[2] The smallest eigenvalue is 1.34e-24. This might indicate that there are\n",
              "strong multicollinearity problems or that the design matrix is singular.\n",
              "\"\"\""
            ]
          },
          "metadata": {
            "tags": []
          },
          "execution_count": 29
        }
      ]
    },
    {
      "cell_type": "code",
      "metadata": {
        "id": "TbXvBaTrp0rC",
        "colab_type": "code",
        "colab": {}
      },
      "source": [
        ""
      ],
      "execution_count": 0,
      "outputs": []
    },
    {
      "cell_type": "code",
      "metadata": {
        "id": "1uNPg1pTp0rG",
        "colab_type": "code",
        "colab": {}
      },
      "source": [
        ""
      ],
      "execution_count": 0,
      "outputs": []
    },
    {
      "cell_type": "code",
      "metadata": {
        "id": "54-vgFFip0rI",
        "colab_type": "code",
        "colab": {}
      },
      "source": [
        ""
      ],
      "execution_count": 0,
      "outputs": []
    },
    {
      "cell_type": "code",
      "metadata": {
        "id": "lVByJki7p0rJ",
        "colab_type": "code",
        "colab": {}
      },
      "source": [
        ""
      ],
      "execution_count": 0,
      "outputs": []
    },
    {
      "cell_type": "code",
      "metadata": {
        "id": "Tsq4HCBdp0rL",
        "colab_type": "code",
        "colab": {}
      },
      "source": [
        ""
      ],
      "execution_count": 0,
      "outputs": []
    }
  ]
}